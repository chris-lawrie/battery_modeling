{
 "cells": [
  {
   "cell_type": "markdown",
   "id": "ddc88f42",
   "metadata": {},
   "source": [
    "## Building a model to maxmise profit from a battery/solar system\n",
    "\n",
    "This model looks at a 24hr period, for a 50 MW PV system, coupled with a 10 MW, 40 MWh BESS. First load the data:"
   ]
  },
  {
   "cell_type": "code",
   "execution_count": 20,
   "id": "f92c467e",
   "metadata": {},
   "outputs": [
    {
     "data": {
      "text/plain": [
       "[Text(0.5, 1.0, 'Price & Solar Avaliable Across 24 hrs - 15min Intervals')]"
      ]
     },
     "execution_count": 20,
     "metadata": {},
     "output_type": "execute_result"
    },
    {
     "data": {
      "image/png": "[encoded data removed]",
      "text/plain": [
       "<Figure size 432x288 with 1 Axes>"
      ]
     },
     "metadata": {
      "needs_background": "light"
     },
     "output_type": "display_data"
    }
   ],
   "source": [
    "import pandas as pd\n",
    "import seaborn as sns\n",
    "df = pd.read_csv(\"solar_battery_data.csv\")\n",
    "\n",
    "sns.lineplot(data = df, x = \"T\", y = \"Solar\")\n",
    "sns.lineplot(data = df, x = \"T\", y = \"Price\").set(title = \"Price & Solar Avaliable Across 24 hrs - 15min Intervals\")"
   ]
  },
  {
   "cell_type": "markdown",
   "id": "0a1ffa14",
   "metadata": {},
   "source": [
    "### Constants\n",
    "Define some design values for our system (these could be knobs to tweak..)"
   ]
  },
  {
   "cell_type": "code",
   "execution_count": 21,
   "id": "fad7dc2e",
   "metadata": {},
   "outputs": [],
   "source": [
    "solar_cap   = 50      # Solar PV capacity in DC MW\n",
    "battery_cap = 10      # Lithium ion battery power (charge/discharge) capacity in DC MW\n",
    "energy_cap  = 40      # Lithium ion battery energy capacity (in MWh)\n",
    "grid_cap    = 40      # DC-AC inverter and grid connection capacity (rated in AC MW)\n",
    "\n",
    "battery_eff = 0.95    # 'Single-trip' charge or discharge efficiency for the Lithium ion battery\n",
    "inverter_eff = 0.9    # Efficiency of DC-AC or AC-DC conversion at inverter\n",
    "\n",
    "start_charge = 0.5*energy_cap"
   ]
  },
  {
   "cell_type": "markdown",
   "id": "ac331808",
   "metadata": {},
   "source": [
    "### Variables\n",
    "Now we can start defining decision variables and constraints for our LP. For our variables, we have a a few operating decisions to make for each timestep: \n",
    "\n",
    "1. **SOLAR**: How much DC power to produce (or curtail) from our solar PV system\n",
    "2. **CHARGE**: How much DC power to charge the battery with\n",
    "3. **DISCHARGE**: How much DC power to discharge from the battery\n",
    "4. **GRID_IMPORT**: How much AC power to import from the grid (to charge the battery)\n",
    "5. **GRID_EXPORT**: How much AC power to export to the grid (to discharge the battery)\n",
    "6. **SOC**: How much energy is stored in the battery (storage state of charge)\n",
    "\n",
    "For the purposes of this optimization problem, we will consider these discrete time decisions taken every 15 minutes. "
   ]
  },
  {
   "cell_type": "code",
   "execution_count": null,
   "id": "a4ea32d4",
   "metadata": {},
   "outputs": [],
   "source": [
    "import pulp\n",
    "\n",
    "# <TO DO> Define variables in a loop for each time period T, applying the appropriate upper/lower bounds.. \n",
    "\n",
    "#                   SOLAR[t in time_series.T]      >= 0\n",
    "# battery_cap    >= CHARGE[t in time_series.T]     >= 0\n",
    "# battery_cap    >= DISCHARGE[t in time_series.T]  >= 0\n",
    "# grid_cap       >= GRIDEXPORT[t in time_series.T] >= 0\n",
    "# grid_cap       >= GRIDIMPORT[t in time_series.T] >= 0\n",
    "# energy_cap     >= SOC[t in time_series.T]        >= 0\n",
    "\n",
    "for i in df.shape[0]:\n",
    "    ...??... # Make variables"
   ]
  },
  {
   "cell_type": "markdown",
   "id": "8034dd6c",
   "metadata": {},
   "source": [
    "### Objective Function\n",
    "Next we'll define our objective function..\n",
    "\n",
    "$\\begin{align*} \n",
    "&\\max (Revenue) = \\max \\sum_{t \\in T} (GRIDEXPORT_t - GRIDIMPORT_t) \\times Price_t \\times 0.25\n",
    "\\end{align*}$"
   ]
  },
  {
   "cell_type": "code",
   "execution_count": null,
   "id": "a0b92e14",
   "metadata": {},
   "outputs": [],
   "source": [
    "# <TO DO> Define this objective function in a loop too for all times t in T?\n",
    "\n",
    "@expression(PV_model, eRevenue, sum((GRIDEXPORT[t]-GRIDIMPORT[t])*time_series.Price[t]*0.25 \n",
    "        for t in time_series.T));"
   ]
  }
 ],
 "metadata": {
  "kernelspec": {
   "display_name": "Python 3",
   "language": "python",
   "name": "python3"
  },
  "language_info": {
   "codemirror_mode": {
    "name": "ipython",
    "version": 3
   },
   "file_extension": ".py",
   "mimetype": "text/x-python",
   "name": "python",
   "nbconvert_exporter": "python",
   "pygments_lexer": "ipython3",
   "version": "3.8.8"
  }
 },
 "nbformat": 4,
 "nbformat_minor": 5
}
