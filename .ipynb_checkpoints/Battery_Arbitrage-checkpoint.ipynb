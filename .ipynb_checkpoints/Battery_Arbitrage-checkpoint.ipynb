{
 "cells": [
  {
   "cell_type": "markdown",
   "id": "62bea9ee",
   "metadata": {},
   "source": [
    "## Building a model to maxmise profit from a battery/solar system\n",
    "\n",
    "This model looks at a 24hr period, for a 50 MW PV system, coupled with a 10 MW, 40 MWh BESS. First load the data:"
   ]
  },
  {
   "cell_type": "code",
   "execution_count": 2,
   "id": "a1952581",
   "metadata": {
    "scrolled": true
   },
   "outputs": [
    {
     "data": {
      "text/plain": [
       "[Text(0.5, 1.0, 'Price & Solar Avaliable Across 24 hrs - 15min Intervals'),\n",
       " Text(0, 0.5, '$ and MW')]"
      ]
     },
     "execution_count": 2,
     "metadata": {},
     "output_type": "execute_result"
    },
    {
     "data": {
      "image/png": "[encoded data removed]",
      "text/plain": [
       "<Figure size 432x288 with 1 Axes>"
      ]
     },
     "metadata": {
      "needs_background": "light"
     },
     "output_type": "display_data"
    }
   ],
   "source": [
    "import pandas as pd\n",
    "import seaborn as sns\n",
    "df = pd.read_csv(\"solar_battery_data.csv\")\n",
    "\n",
    "sns.lineplot(data = df, x = \"T\", y = \"Solar\")\n",
    "sns.lineplot(data = df, x = \"T\", y = \"Price\").set(title = \"Price & Solar Avaliable Across 24 hrs - 15min Intervals\", ylabel = \"$ and MW\")"
   ]
  },
  {
   "cell_type": "markdown",
   "id": "fcacc815",
   "metadata": {},
   "source": [
    "### Constants\n",
    "Define some design values for our system (these could be knobs to tweak..)"
   ]
  },
  {
   "cell_type": "code",
   "execution_count": 3,
   "id": "f3948ce1",
   "metadata": {},
   "outputs": [],
   "source": [
    "solar_cap   = 50      # Solar PV capacity in DC MW\n",
    "battery_cap = 10      # Lithium ion battery power (charge/discharge) capacity in DC MW\n",
    "energy_cap  = 40      # Lithium ion battery energy capacity (in MWh)\n",
    "grid_cap    = 40      # DC-AC inverter and grid connection capacity (rated in AC MW)\n",
    "\n",
    "battery_eff = 0.95    # 'Single-trip' charge or discharge efficiency for the Lithium ion battery\n",
    "inverter_eff = 0.9    # Efficiency of DC-AC or AC-DC conversion at inverter\n",
    "\n",
    "start_charge = 0.5*energy_cap"
   ]
  },
  {
   "cell_type": "markdown",
   "id": "0de1ba93",
   "metadata": {},
   "source": [
    "### Variables\n",
    "Now we can start defining decision variables and constraints for our LP. For our variables, we have a a few operating decisions to make for each timestep: \n",
    "\n",
    "1. **SOLAR**: How much DC power to produce (or curtail) from our solar PV system\n",
    "2. **CHARGE**: How much DC power to charge the battery with\n",
    "3. **DISCHARGE**: How much DC power to discharge from the battery\n",
    "4. **GRID_IMPORT**: How much AC power to import from the grid (to charge the battery)\n",
    "5. **GRID_EXPORT**: How much AC power to export to the grid (to discharge the battery)\n",
    "6. **SOC**: How much energy is stored in the battery (storage state of charge)\n",
    "\n",
    "For the purposes of this optimization problem, we will consider these discrete time decisions taken every 15 minutes. "
   ]
  },
  {
   "cell_type": "code",
   "execution_count": 4,
   "id": "24775811",
   "metadata": {},
   "outputs": [],
   "source": [
    "import pulp as p\n",
    "\n",
    "T = df.shape[0]\n",
    "\n",
    "\n",
    "model = p.LpProblem('Model', p.LpMaximize)\n",
    "\n",
    "# Initialise arrays to hold variables for each time step\n",
    "SOLAR = [None]*T\n",
    "CHARGE = [None]*T\n",
    "DISCHARGE = [None]*T\n",
    "GRIDEXPORT = [None]*T\n",
    "GRIDIMPORT = [None]*T\n",
    "SOC = [None]*T\n",
    "\n",
    "for t in range(T): \n",
    "    SOLAR[t] = p.LpVariable(f\"SOLAR_{t}\", lowBound = 0, upBound = solar_cap)\n",
    "    CHARGE[t] = p.LpVariable(f\"CHARGE_{t}\", lowBound = 0, upBound = battery_cap)\n",
    "    DISCHARGE[t] = p.LpVariable(f\"DISCHARGE_{t}\", lowBound = 0, upBound = battery_cap)\n",
    "    GRIDEXPORT[t] = p.LpVariable(f\"GRIDEXPORT_{t}\", lowBound = 0, upBound = grid_cap)\n",
    "    GRIDIMPORT[t] = p.LpVariable(f\"GRIDIMPORT_{t}\", lowBound = 0, upBound = grid_cap)\n",
    "    SOC[t] = p.LpVariable(f\"SOC_{t}\", lowBound = 0, upBound = energy_cap)\n"
   ]
  },
  {
   "cell_type": "markdown",
   "id": "396a0297",
   "metadata": {},
   "source": [
    "### Objective Function\n",
    "Next we'll define our objective function..\n",
    "\n",
    "$\\begin{align*} \n",
    "&\\max (Revenue) = \\max \\sum_{t \\in T} (GRIDEXPORT_t - GRIDIMPORT_t) \\times Price_t \\times 0.25\n",
    "\\end{align*}$"
   ]
  },
  {
   "cell_type": "code",
   "execution_count": 5,
   "id": "98c2906a",
   "metadata": {},
   "outputs": [
    {
     "name": "stderr",
     "output_type": "stream",
     "text": [
      "/Users/chrislawrie/opt/anaconda3/lib/python3.8/site-packages/pulp/pulp.py:1704: UserWarning: Overwriting previously set objective.\n",
      "  warnings.warn(\"Overwriting previously set objective.\")\n"
     ]
    }
   ],
   "source": [
    "# Define this objective function in a loop too for all times t in T\n",
    "for t in range(T):\n",
    "    model += (GRIDEXPORT[t]-GRIDIMPORT[t])*df.Price[t]*0.25"
   ]
  },
  {
   "cell_type": "markdown",
   "id": "16ec6fd6",
   "metadata": {},
   "source": [
    "### Constraints\n",
    "As we all as the upper/lower bounds for the variables defined earlier, we need to add a few more constraints. \n",
    "\n",
    "**1st.** we must ensure energy ballance at all times. That is to say, the total output energy from the PV and battery system variables must be equal to the difference between grid import/export variables (less their efficiency factors).\n",
    "\n",
    "\n",
    "$ \\quad eNetSolarStorage = eNetExport \\quad \\forall t \\in T $\n",
    "\n",
    "Where: \n",
    "\n",
    "$\\begin{align*} \n",
    "eNetSolarStorage_t = SOLAR_t + DISCHARGE_t - CHARGE_t \\quad \\forall t \\in T\n",
    "\\end{align*}$\n",
    "\n",
    "$\\begin{align*} \n",
    "eNetExport_t = \\frac{GRIDEXPORT_t}{inverter\\_eff} - GRIDIMPORT_t \\times inverter\\_eff \\quad \\forall t \\in T\n",
    "\\end{align*}$\n",
    "\n",
    "**2nd.** The Solar generation must not exceed the avaliable solar generation for any given point in time.\n",
    "\n",
    "$\\begin{align*} \n",
    "SOLAR \\leq time\\_series.Solar_t \\quad \\forall t \\in T\n",
    "\\end{align*}$\n",
    "\n",
    "\n",
    "\n",
    "**3rd.** The SOC of the battery must be equal to the SOC in the previous time period, plus the energy charged/discharged in the current period - whilst accounting for storage losses.\n",
    "\n",
    "$\\begin{align*} \n",
    "SOC_t = SOC_{t-1} + 0.25\\big(CHARGE_t * battery\\_eff - \\frac{DISCHARGE_t}{battery\\_eff}\\big)  \\quad \\forall t \\in T\n",
    "\\end{align*}$\n"
   ]
  },
  {
   "cell_type": "code",
   "execution_count": 7,
   "id": "f635d7c1",
   "metadata": {},
   "outputs": [],
   "source": [
    "# Add in constraints: \n",
    "for t in range(T):\n",
    "    model += (SOLAR[t] + DISCHARGE[t] - CHARGE[t]) == (GRIDEXPORT[t]*(1/inverter_eff) - GRIDIMPORT[t]*inverter_eff)\n",
    "    model += SOLAR[t] <= df.Solar[t]\n",
    "    if t == 0: \n",
    "        model += SOC[t] == (start_charge + (CHARGE[t]*battery_eff - DISCHARGE[t]*(1/battery_eff))*0.25)\n",
    "    else:\n",
    "        model += SOC[t] == (SOC[t-1] + (CHARGE[t]*battery_eff - DISCHARGE[t]*(1/battery_eff))*0.25)\n",
    "    "
   ]
  },
  {
   "cell_type": "code",
   "execution_count": 9,
   "id": "b3c027cd",
   "metadata": {},
   "outputs": [
    {
     "name": "stdout",
     "output_type": "stream",
     "text": [
      "Optimal\n"
     ]
    }
   ],
   "source": [
    "status = model.solve()\n",
    "print(p.LpStatus[status])"
   ]
  },
  {
   "cell_type": "code",
   "execution_count": null,
   "id": "3c1c747c",
   "metadata": {},
   "outputs": [],
   "source": []
  }
 ],
 "metadata": {
  "kernelspec": {
   "display_name": "Python 3",
   "language": "python",
   "name": "python3"
  },
  "language_info": {
   "codemirror_mode": {
    "name": "ipython",
    "version": 3
   },
   "file_extension": ".py",
   "mimetype": "text/x-python",
   "name": "python",
   "nbconvert_exporter": "python",
   "pygments_lexer": "ipython3",
   "version": "3.8.8"
  }
 },
 "nbformat": 4,
 "nbformat_minor": 5
}
