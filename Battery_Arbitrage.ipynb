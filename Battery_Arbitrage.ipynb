{
 "cells": [
  {
   "cell_type": "markdown",
   "id": "844f4952",
   "metadata": {},
   "source": [
    "# Second pass - building a model with 1yr of data"
   ]
  },
  {
   "cell_type": "code",
   "execution_count": 51,
   "id": "cd04302c",
   "metadata": {},
   "outputs": [
    {
     "data": {
      "text/html": [
       "<div>\n",
       "<style scoped>\n",
       "    .dataframe tbody tr th:only-of-type {\n",
       "        vertical-align: middle;\n",
       "    }\n",
       "\n",
       "    .dataframe tbody tr th {\n",
       "        vertical-align: top;\n",
       "    }\n",
       "\n",
       "    .dataframe thead th {\n",
       "        text-align: right;\n",
       "    }\n",
       "</style>\n",
       "<table border=\"1\" class=\"dataframe\">\n",
       "  <thead>\n",
       "    <tr style=\"text-align: right;\">\n",
       "      <th></th>\n",
       "      <th>Cost</th>\n",
       "    </tr>\n",
       "  </thead>\n",
       "  <tbody>\n",
       "    <tr>\n",
       "      <th>Wind</th>\n",
       "      <td>1.139639</td>\n",
       "    </tr>\n",
       "    <tr>\n",
       "      <th>PV</th>\n",
       "      <td>-0.202534</td>\n",
       "    </tr>\n",
       "    <tr>\n",
       "      <th>Battery</th>\n",
       "      <td>-1.748855</td>\n",
       "    </tr>\n",
       "  </tbody>\n",
       "</table>\n",
       "</div>"
      ],
      "text/plain": [
       "             Cost\n",
       "Wind     1.139639\n",
       "PV      -0.202534\n",
       "Battery -1.748855"
      ]
     },
     "execution_count": 51,
     "metadata": {},
     "output_type": "execute_result"
    }
   ],
   "source": [
    "import numpy as np\n",
    "bar_chart_data = pd.DataFrame(\n",
    "np.random.randn(3, 1),\n",
    "[\"Wind\", \"PV\", \"Battery\"],\n",
    "columns=[\"Cost\"])\n",
    "bar_chart_data"
   ]
  },
  {
   "cell_type": "code",
   "execution_count": 44,
   "id": "641bd814",
   "metadata": {},
   "outputs": [
    {
     "name": "stdout",
     "output_type": "stream",
     "text": [
      "inputs read!\n",
      "model created!\n",
      "objective created!\n",
      "objective added!\n",
      "constraints added!\n",
      "Optimal\n",
      "6351.261672676102\n"
     ]
    },
    {
     "data": {
      "text/plain": [
       "<AxesSubplot:title={'center':'Wind & Solar'}, xlabel='T', ylabel='MW'>"
      ]
     },
     "execution_count": 44,
     "metadata": {},
     "output_type": "execute_result"
    },
    {
     "data": {
      "image/png": "[encoded data removed]",
      "text/plain": [
       "<Figure size 432x288 with 1 Axes>"
      ]
     },
     "metadata": {
      "needs_background": "light"
     },
     "output_type": "display_data"
    }
   ],
   "source": [
    "import pandas as pd\n",
    "import seaborn as sns\n",
    "import pulp as p\n",
    "df = pd.read_csv(\"8760_data.csv\")\n",
    "print('inputs read!')\n",
    "df = df.head(168)\n",
    "\n",
    "\n",
    "sns.lineplot(data = df.head(150), x = \"T\", y = \"solar\")\n",
    "sns.lineplot(data = df.head(150), x = \"T\", y = \"wind\").set(title = \"Wind & Solar\", ylabel = \"MW\")\n",
    "\n",
    "\n",
    "##################################\n",
    "####### Start writing LP #########\n",
    "##################################\n",
    "\n",
    "solar_cap   = 50      # Solar PV capacity in DC MW\n",
    "battery_cap = 10      # Lithium ion battery power (charge/discharge) capacity in DC MW\n",
    "energy_cap  = 40      # Lithium ion battery energy capacity (in MWh)\n",
    "grid_cap    = 40      # DC-AC inverter and grid connection capacity (rated in AC MW)\n",
    "battery_eff = 0.95    # 'Single-trip' charge or discharge efficiency for the Lithium ion battery\n",
    "inverter_eff = 0.9    # Efficiency of DC-AC or AC-DC conversion at inverter\n",
    "start_charge = 0.5*energy_cap\n",
    "\n",
    "T = df.shape[0]\n",
    "model = p.LpProblem('Model', p.LpMaximize)\n",
    "print('model created!')\n",
    "\n",
    "\n",
    "# Initialise arrays to hold variables for each time step\n",
    "SOLAR = [None]*T\n",
    "CHARGE = [None]*T\n",
    "DISCHARGE = [None]*T\n",
    "GRIDEXPORT = [None]*T\n",
    "GRIDIMPORT = [None]*T\n",
    "SOC = [None]*T\n",
    "\n",
    "\n",
    "for t in range(T): \n",
    "    SOLAR[t] = p.LpVariable(f\"SOLAR_{t}\", lowBound = 0, upBound = solar_cap)\n",
    "    CHARGE[t] = p.LpVariable(f\"CHARGE_{t}\", lowBound = 0, upBound = battery_cap)\n",
    "    DISCHARGE[t] = p.LpVariable(f\"DISCHARGE_{t}\", lowBound = 0, upBound = battery_cap)\n",
    "    GRIDEXPORT[t] = p.LpVariable(f\"GRIDEXPORT_{t}\", lowBound = 0, upBound = grid_cap)\n",
    "    GRIDIMPORT[t] = p.LpVariable(f\"GRIDIMPORT_{t}\", lowBound = 0, upBound = grid_cap)\n",
    "    SOC[t] = p.LpVariable(f\"SOC_{t}\", lowBound = 0, upBound = energy_cap)\n",
    "    \n",
    "    \n",
    "# Define this objective function in a loop too for all times t in T\n",
    "objective = [None]*T\n",
    "for t in range(T):\n",
    "    objective[t] = (GRIDEXPORT[t]-GRIDIMPORT[t])*float(df.price[t])*0.25\n",
    "print('objective created!')\n",
    "\n",
    "    \n",
    "model += sum(objective)\n",
    "print('objective added!')\n",
    "\n",
    "\n",
    "# Add in constraints: \n",
    "for t in range(T):\n",
    "    model += (SOLAR[t] + DISCHARGE[t] - CHARGE[t]) == (GRIDEXPORT[t]*(1/inverter_eff) - GRIDIMPORT[t]*inverter_eff)\n",
    "    model += SOLAR[t] <= df.solar[t]\n",
    "    if t == 0: \n",
    "        model += SOC[t] == (start_charge + (CHARGE[t]*battery_eff - DISCHARGE[t]*(1/battery_eff))*0.25)\n",
    "    else:\n",
    "        model += SOC[t] == (SOC[t-1] + (CHARGE[t]*battery_eff - DISCHARGE[t]*(1/battery_eff))*0.25)\n",
    "        \n",
    "print('constraints added!')\n",
    "        \n",
    "\n",
    "status = model.solve()\n",
    "print(p.LpStatus[status])\n",
    "\n",
    "\n",
    "## Post processing\n",
    "ans_SOC = [None]*T\n",
    "ans_OBJ = [None]*T\n",
    "\n",
    "for t in range(T):\n",
    "    ans_SOC[t] = p.value(SOC[t])\n",
    "    ans_OBJ[t] = p.value(objective[t])\n",
    "    \n",
    "df[\"SOC\"] = ans_SOC\n",
    "\n",
    "print(sum(ans_OBJ))\n",
    "sns.lineplot(data = df, x = \"T\", y = ans_SOC)\n",
    "sns.lineplot(data = df, x = \"T\", y = \"solar\")\n",
    "# sns.lineplot(data = df, x = \"T\", y = \"price\")"
   ]
  },
  {
   "cell_type": "code",
   "execution_count": 16,
   "id": "9461ef94",
   "metadata": {},
   "outputs": [
    {
     "data": {
      "text/html": [
       "<div>\n",
       "<style scoped>\n",
       "    .dataframe tbody tr th:only-of-type {\n",
       "        vertical-align: middle;\n",
       "    }\n",
       "\n",
       "    .dataframe tbody tr th {\n",
       "        vertical-align: top;\n",
       "    }\n",
       "\n",
       "    .dataframe thead th {\n",
       "        text-align: right;\n",
       "    }\n",
       "</style>\n",
       "<table border=\"1\" class=\"dataframe\">\n",
       "  <thead>\n",
       "    <tr style=\"text-align: right;\">\n",
       "      <th></th>\n",
       "      <th>T</th>\n",
       "      <th>solar</th>\n",
       "      <th>wind</th>\n",
       "      <th>price</th>\n",
       "    </tr>\n",
       "  </thead>\n",
       "  <tbody>\n",
       "    <tr>\n",
       "      <th>0</th>\n",
       "      <td>1</td>\n",
       "      <td>0.0</td>\n",
       "      <td>0.889717</td>\n",
       "      <td>47.76</td>\n",
       "    </tr>\n",
       "    <tr>\n",
       "      <th>1</th>\n",
       "      <td>2</td>\n",
       "      <td>0.0</td>\n",
       "      <td>0.877715</td>\n",
       "      <td>47.76</td>\n",
       "    </tr>\n",
       "    <tr>\n",
       "      <th>2</th>\n",
       "      <td>3</td>\n",
       "      <td>0.0</td>\n",
       "      <td>0.903424</td>\n",
       "      <td>48.43</td>\n",
       "    </tr>\n",
       "    <tr>\n",
       "      <th>3</th>\n",
       "      <td>4</td>\n",
       "      <td>0.0</td>\n",
       "      <td>0.895153</td>\n",
       "      <td>47.76</td>\n",
       "    </tr>\n",
       "    <tr>\n",
       "      <th>4</th>\n",
       "      <td>5</td>\n",
       "      <td>0.0</td>\n",
       "      <td>0.757258</td>\n",
       "      <td>47.76</td>\n",
       "    </tr>\n",
       "  </tbody>\n",
       "</table>\n",
       "</div>"
      ],
      "text/plain": [
       "   T  solar      wind  price\n",
       "0  1    0.0  0.889717  47.76\n",
       "1  2    0.0  0.877715  47.76\n",
       "2  3    0.0  0.903424  48.43\n",
       "3  4    0.0  0.895153  47.76\n",
       "4  5    0.0  0.757258  47.76"
      ]
     },
     "execution_count": 16,
     "metadata": {},
     "output_type": "execute_result"
    }
   ],
   "source": [
    "df.head()"
   ]
  },
  {
   "cell_type": "markdown",
   "id": "62bea9ee",
   "metadata": {},
   "source": [
    "## First pass - Building a model to maxmise profit from a battery/solar system\n",
    "\n",
    "This model looks at a 24hr period, for a 50 MW PV system, coupled with a 10 MW, 40 MWh BESS. First load the data:"
   ]
  },
  {
   "cell_type": "code",
   "execution_count": 12,
   "id": "a1952581",
   "metadata": {
    "scrolled": true
   },
   "outputs": [
    {
     "data": {
      "text/plain": [
       "[Text(0.5, 1.0, 'Price & Solar Avaliable Across 24 hrs - 15min Intervals'),\n",
       " Text(0, 0.5, '$ and MW')]"
      ]
     },
     "execution_count": 12,
     "metadata": {},
     "output_type": "execute_result"
    },
    {
     "data": {
      "image/png": "[encoded data removed]",
      "text/plain": [
       "<Figure size 432x288 with 1 Axes>"
      ]
     },
     "metadata": {
      "needs_background": "light"
     },
     "output_type": "display_data"
    }
   ],
   "source": [
    "import pandas as pd\n",
    "import seaborn as sns\n",
    "df = pd.read_csv(\"solar_battery_data.csv\")\n",
    "\n",
    "sns.lineplot(data = df, x = \"T\", y = \"Solar\")\n",
    "sns.lineplot(data = df, x = \"T\", y = \"Price\").set(title = \"Price & Solar Avaliable Across 24 hrs - 15min Intervals\", ylabel = \"$ and MW\")"
   ]
  },
  {
   "cell_type": "markdown",
   "id": "fcacc815",
   "metadata": {},
   "source": [
    "### Constants\n",
    "Define some design values for our system (these could be knobs to tweak..)"
   ]
  },
  {
   "cell_type": "code",
   "execution_count": 3,
   "id": "f3948ce1",
   "metadata": {},
   "outputs": [],
   "source": [
    "solar_cap   = 50      # Solar PV capacity in DC MW\n",
    "battery_cap = 10      # Lithium ion battery power (charge/discharge) capacity in DC MW\n",
    "energy_cap  = 40      # Lithium ion battery energy capacity (in MWh)\n",
    "grid_cap    = 40      # DC-AC inverter and grid connection capacity (rated in AC MW)\n",
    "\n",
    "battery_eff = 0.95    # 'Single-trip' charge or discharge efficiency for the Lithium ion battery\n",
    "inverter_eff = 0.9    # Efficiency of DC-AC or AC-DC conversion at inverter\n",
    "\n",
    "start_charge = 0.5*energy_cap"
   ]
  },
  {
   "cell_type": "markdown",
   "id": "0de1ba93",
   "metadata": {},
   "source": [
    "### Variables\n",
    "Now we can start defining decision variables and constraints for our LP. For our variables, we have a a few operating decisions to make for each timestep: \n",
    "\n",
    "1. **SOLAR**: How much DC power to produce (or curtail) from our solar PV system\n",
    "2. **CHARGE**: How much DC power to charge the battery with\n",
    "3. **DISCHARGE**: How much DC power to discharge from the battery\n",
    "4. **GRID_IMPORT**: How much AC power to import from the grid (to charge the battery)\n",
    "5. **GRID_EXPORT**: How much AC power to export to the grid (to discharge the battery)\n",
    "6. **SOC**: How much energy is stored in the battery (storage state of charge)\n",
    "\n",
    "For the purposes of this optimization problem, we will consider these discrete time decisions taken every 15 minutes. "
   ]
  },
  {
   "cell_type": "code",
   "execution_count": 4,
   "id": "24775811",
   "metadata": {},
   "outputs": [],
   "source": [
    "import pulp as p\n",
    "\n",
    "T = df.shape[0]\n",
    "\n",
    "\n",
    "model = p.LpProblem('Model', p.LpMaximize)\n",
    "\n",
    "# Initialise arrays to hold variables for each time step\n",
    "SOLAR = [None]*T\n",
    "CHARGE = [None]*T\n",
    "DISCHARGE = [None]*T\n",
    "GRIDEXPORT = [None]*T\n",
    "GRIDIMPORT = [None]*T\n",
    "SOC = [None]*T\n",
    "\n",
    "for t in range(T): \n",
    "    SOLAR[t] = p.LpVariable(f\"SOLAR_{t}\", lowBound = 0, upBound = solar_cap)\n",
    "    CHARGE[t] = p.LpVariable(f\"CHARGE_{t}\", lowBound = 0, upBound = battery_cap)\n",
    "    DISCHARGE[t] = p.LpVariable(f\"DISCHARGE_{t}\", lowBound = 0, upBound = battery_cap)\n",
    "    GRIDEXPORT[t] = p.LpVariable(f\"GRIDEXPORT_{t}\", lowBound = 0, upBound = grid_cap)\n",
    "    GRIDIMPORT[t] = p.LpVariable(f\"GRIDIMPORT_{t}\", lowBound = 0, upBound = grid_cap)\n",
    "    SOC[t] = p.LpVariable(f\"SOC_{t}\", lowBound = 0, upBound = energy_cap)\n"
   ]
  },
  {
   "cell_type": "markdown",
   "id": "396a0297",
   "metadata": {},
   "source": [
    "### Objective Function\n",
    "Next we'll define our objective function..\n",
    "\n",
    "$\\begin{align*} \n",
    "&\\max (Revenue) = \\max \\sum_{t \\in T} (GRIDEXPORT_t - GRIDIMPORT_t) \\times Price_t \\times 0.25\n",
    "\\end{align*}$"
   ]
  },
  {
   "cell_type": "code",
   "execution_count": 22,
   "id": "98c2906a",
   "metadata": {},
   "outputs": [],
   "source": [
    "# Define this objective function in a loop too for all times t in T\n",
    "objective = [None]*T\n",
    "for t in range(T):\n",
    "    objective[t] = (GRIDEXPORT[t]-GRIDIMPORT[t])*df.Price[t]*0.25\n",
    "    \n",
    "model += sum(objective)"
   ]
  },
  {
   "cell_type": "markdown",
   "id": "16ec6fd6",
   "metadata": {},
   "source": [
    "### Constraints\n",
    "As we all as the upper/lower bounds for the variables defined earlier, we need to add a few more constraints. \n",
    "\n",
    "**1st.** we must ensure energy ballance at all times. That is to say, the total output energy from the PV and battery system variables must be equal to the difference between grid import/export variables (less their efficiency factors).\n",
    "\n",
    "\n",
    "$ \\quad eNetSolarStorage = eNetExport \\quad \\forall t \\in T $\n",
    "\n",
    "Where: \n",
    "\n",
    "$\\begin{align*} \n",
    "eNetSolarStorage_t = SOLAR_t + DISCHARGE_t - CHARGE_t \\quad \\forall t \\in T\n",
    "\\end{align*}$\n",
    "\n",
    "$\\begin{align*} \n",
    "eNetExport_t = \\frac{GRIDEXPORT_t}{inverter\\_eff} - GRIDIMPORT_t \\times inverter\\_eff \\quad \\forall t \\in T\n",
    "\\end{align*}$\n",
    "\n",
    "**2nd.** The Solar generation must not exceed the avaliable solar generation for any given point in time.\n",
    "\n",
    "$\\begin{align*} \n",
    "SOLAR \\leq time\\_series.Solar_t \\quad \\forall t \\in T\n",
    "\\end{align*}$\n",
    "\n",
    "\n",
    "\n",
    "**3rd.** The SOC of the battery must be equal to the SOC in the previous time period, plus the energy charged/discharged in the current period - whilst accounting for storage losses.\n",
    "\n",
    "$\\begin{align*} \n",
    "SOC_t = SOC_{t-1} + 0.25\\big(CHARGE_t * battery\\_eff - \\frac{DISCHARGE_t}{battery\\_eff}\\big)  \\quad \\forall t \\in T\n",
    "\\end{align*}$\n"
   ]
  },
  {
   "cell_type": "code",
   "execution_count": 7,
   "id": "f635d7c1",
   "metadata": {},
   "outputs": [],
   "source": [
    "# Add in constraints: \n",
    "for t in range(T):\n",
    "    model += (SOLAR[t] + DISCHARGE[t] - CHARGE[t]) == (GRIDEXPORT[t]*(1/inverter_eff) - GRIDIMPORT[t]*inverter_eff)\n",
    "    model += SOLAR[t] <= df.Solar[t]\n",
    "    if t == 0: \n",
    "        model += SOC[t] == (start_charge + (CHARGE[t]*battery_eff - DISCHARGE[t]*(1/battery_eff))*0.25)\n",
    "    else:\n",
    "        model += SOC[t] == (SOC[t-1] + (CHARGE[t]*battery_eff - DISCHARGE[t]*(1/battery_eff))*0.25)\n",
    "    "
   ]
  },
  {
   "cell_type": "code",
   "execution_count": 23,
   "id": "b3c027cd",
   "metadata": {},
   "outputs": [
    {
     "name": "stdout",
     "output_type": "stream",
     "text": [
      "Optimal\n"
     ]
    }
   ],
   "source": [
    "status = model.solve()\n",
    "print(p.LpStatus[status])"
   ]
  },
  {
   "cell_type": "code",
   "execution_count": 38,
   "id": "d0b48f45",
   "metadata": {},
   "outputs": [],
   "source": [
    "ans_SOC = [None]*T\n",
    "ans_OBJ = [None]*T\n",
    "\n",
    "for t in range(T):\n",
    "    ans_SOC[t] = p.value(SOC[t])\n",
    "    ans_OBJ[t] = p.value(objective[t])\n",
    "    \n",
    "df[\"SOC\"] = ans_SOC"
   ]
  },
  {
   "cell_type": "code",
   "execution_count": 37,
   "id": "3f5623f5",
   "metadata": {},
   "outputs": [
    {
     "data": {
      "text/plain": [
       "<AxesSubplot:xlabel='T', ylabel='Solar'>"
      ]
     },
     "execution_count": 37,
     "metadata": {},
     "output_type": "execute_result"
    },
    {
     "data": {
      "image/png": "[encoded data removed]",
      "text/plain": [
       "<Figure size 432x288 with 1 Axes>"
      ]
     },
     "metadata": {
      "needs_background": "light"
     },
     "output_type": "display_data"
    }
   ],
   "source": [
    "\n",
    "sns.lineplot(data = df, x = \"T\", y = ans_SOC)\n",
    "sns.lineplot(data = df, x = \"T\", y = \"Solar\")\n",
    "sns.lineplot(data = df, x = \"T\", y = \"Price\")"
   ]
  },
  {
   "cell_type": "code",
   "execution_count": 40,
   "id": "da7b1117",
   "metadata": {},
   "outputs": [
    {
     "data": {
      "text/plain": [
       "7290.960978778124"
      ]
     },
     "execution_count": 40,
     "metadata": {},
     "output_type": "execute_result"
    }
   ],
   "source": [
    "sum(ans_OBJ)"
   ]
  },
  {
   "cell_type": "code",
   "execution_count": null,
   "id": "92ca0b07",
   "metadata": {},
   "outputs": [],
   "source": []
  }
 ],
 "metadata": {
  "kernelspec": {
   "display_name": "Python 3",
   "language": "python",
   "name": "python3"
  },
  "language_info": {
   "codemirror_mode": {
    "name": "ipython",
    "version": 3
   },
   "file_extension": ".py",
   "mimetype": "text/x-python",
   "name": "python",
   "nbconvert_exporter": "python",
   "pygments_lexer": "ipython3",
   "version": "3.8.8"
  },
  "vscode": {
   "interpreter": {
    "hash": "aee8b7b246df8f9039afb4144a1f6fd8d2ca17a180786b69acc140d282b71a49"
   }
  }
 },
 "nbformat": 4,
 "nbformat_minor": 5
}
